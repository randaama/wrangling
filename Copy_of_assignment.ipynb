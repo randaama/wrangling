{
  "cells": [
    {
      "cell_type": "markdown",
      "metadata": {
        "id": "view-in-github",
        "colab_type": "text"
      },
      "source": [
        "<a href=\"https://colab.research.google.com/github/randaama/wrangling/blob/main/Copy_of_assignment.ipynb\" target=\"_parent\"><img src=\"https://colab.research.google.com/assets/colab-badge.svg\" alt=\"Open In Colab\"/></a>"
      ]
    },
    {
      "cell_type": "markdown",
      "id": "13ad028b-72b7-43ed-aa78-96fd4e518040",
      "metadata": {
        "id": "13ad028b-72b7-43ed-aa78-96fd4e518040"
      },
      "source": [
        "# Assignment: Data Wrangling"
      ]
    },
    {
      "cell_type": "markdown",
      "id": "5735a4d4-8be8-433a-a351-70eb8002e632",
      "metadata": {
        "id": "5735a4d4-8be8-433a-a351-70eb8002e632"
      },
      "source": [
        "**Q1.** Open the \"tidy_data.pdf\" document in the repo, which is a paper called Tidy Data by Hadley Wickham.\n",
        "\n",
        "  1. Read the abstract. What is this paper about?\n",
        "\n",
        "    - This paper is about what a tidy dataset is, how it is structured, and how to change a messy data set into a tidy data set.\n",
        "\n",
        "\n",
        "  2. Read the introduction. What is the \"tidy data standard\" intended to accomplish?\n",
        "    \n",
        "    - The tidy data standard is intended to make it easier for data to be cleaned, because it gives guidance on how to change a data set into a form that makes its data easier to analyze, which will keep people from having to figure it out themselves.\n",
        "\n",
        "\n",
        "  3. Read the intro to section 2. What does this sentence mean: \"Like families, tidy datasets are all alike but every messy dataset is messy in its own way.\"\n",
        "\n",
        "    - I think this means that tidy datasets are all similar because they are structured the same way, but data sets that are messy can be messy in a multitude of different ways.\n",
        "\n",
        "  What does this sentence mean: \"For a given dataset, it’s usually easy to figure out what are observations and what are variables, but it is surprisingly difficult to precisely define variables and observations in general.\"\n",
        "\n",
        "    - This means that it is difficult to figure out how to group variables with each other because they have different attributes that may be related or unrelated to each other.\n",
        "\n",
        "  4. Read Section 2.2. How does Wickham define values, variables, and observations?\n",
        "\n",
        "    - A value is a number or a string, basically what is inputted in each cell of a data set\n",
        "    - A variable is an object that conatins all the values that are measured from the same attribute (like all ages in a group of people) across units\n",
        "    - An observation is all the values measured across every variable for one unit\n",
        "\n",
        "  5. How is \"Tidy Data\" defined in section 2.3?\n",
        "\n",
        "    - Tidy data is a dataset in which every variable is its own column, every observation is a row, and each unot forms a table.\n",
        "\n",
        "  6. Read the intro to Section 3 and Section 3.1. What are the 5 most common problems with messy datasets? Why are the data in Table 4 messy? What is \"melting\" a dataset?\n",
        "\n",
        "      - The 5 most common problems are column headers being values and not variable names, multiple variables being stored in one column, variables being stored in both rows and columns, multiple types of observational units being stored in one table, and single observational units being stord in multiple tables.\n",
        "      \n",
        "      - The data is table 4 is messy, because each column aside from religion is a value of the same variable (income bracket). Melting a dataset is essentially turning columns into rows.\n",
        "\n",
        "  7. Why, specifically, is table 11 messy but table 12 tidy and \"molten\"?\n",
        "\n",
        "      - Table 11 is messy, because there is a separate column for every possible day in a month, instead of all the days being in one column. Table 12 is tidy, because the dates and their values have been condensed into 3 variables (for 12a), which allows for easier processing of the data.\n",
        "\n",
        "  8. Read Section 6. What is the \"chicken-and-egg\" problem with focusing on tidy data? What does Wickham hope happens in the future with further work on the subject of data wrangling?\n",
        "\n",
        "      - The chicken and egg problem is that if tidy data is only as useful as the tools that work with it, the tools will be forever associated with tidy data. So basically, if we just stick with this structure of tidy data because it works, we may be limiting ourselves to just this structure when other ways could work better. He hopes that methods can be used to understand the more human side of data wrangling in the future and lead to more adaptability of tools.\n",
        "\n"
      ]
    },
    {
      "cell_type": "markdown",
      "source": [],
      "metadata": {
        "id": "YAT-ss_xC0uB"
      },
      "id": "YAT-ss_xC0uB"
    },
    {
      "cell_type": "markdown",
      "id": "da879ea7-8aac-48a3-b6c2-daea56d2e072",
      "metadata": {
        "id": "da879ea7-8aac-48a3-b6c2-daea56d2e072"
      },
      "source": [
        "**Q2.** This question provides some practice cleaning variables which have common problems.\n",
        "1. Numeric variable: For `./data/airbnb_hw.csv`, clean the `Price` variable as well as you can, and explain the choices you make. How many missing values do you end up with? (Hint: What happens to the formatting when a price goes over 999 dollars, say from 675 to 1,112?)\n",
        "2. Categorical variable: For the `./data/sharks.csv` data covered in the lecture, clean the \"Type\" variable as well as you can, and explain the choices you make.\n",
        "3. Dummy variable: For the pretrial data covered in the lecture, clean the `WhetherDefendantWasReleasedPretrial` variable as well as you can, and, in particular, replace missing values with `np.nan`.\n",
        "4. Missing values, not at random: For the pretrial data covered in the lecture, clean the `ImposedSentenceAllChargeInContactEvent` variable as well as you can, and explain the choices you make. (Hint: Look at the `SentenceTypeAllChargesAtConvictionInContactEvent` variable.)"
      ]
    },
    {
      "cell_type": "code",
      "source": [
        "! git clone https://github.com/DS3001/wrangling"
      ],
      "metadata": {
        "colab": {
          "base_uri": "https://localhost:8080/"
        },
        "id": "JpQR6UgADXAN",
        "outputId": "c5351e79-2028-41fc-b3b5-8e2bfa1863b9"
      },
      "id": "JpQR6UgADXAN",
      "execution_count": 1,
      "outputs": [
        {
          "output_type": "stream",
          "name": "stdout",
          "text": [
            "Cloning into 'wrangling'...\n",
            "remote: Enumerating objects: 83, done.\u001b[K\n",
            "remote: Counting objects: 100% (40/40), done.\u001b[K\n",
            "remote: Compressing objects: 100% (29/29), done.\u001b[K\n",
            "remote: Total 83 (delta 31), reused 11 (delta 11), pack-reused 43\u001b[K\n",
            "Receiving objects: 100% (83/83), 10.85 MiB | 18.54 MiB/s, done.\n",
            "Resolving deltas: 100% (36/36), done.\n"
          ]
        }
      ]
    },
    {
      "cell_type": "code",
      "source": [
        "import pandas as pd\n",
        "import numpy as np\n",
        "\n",
        "airbnb = pd.read_csv(\"/content/wrangling/assignment/data/airbnb_hw.csv\")\n",
        "sharks = pd.read_csv(\"/content/wrangling/assignment/data/sharks.csv\",low_memory=False)"
      ],
      "metadata": {
        "id": "mdxmaNmmyt7_"
      },
      "id": "mdxmaNmmyt7_",
      "execution_count": 2,
      "outputs": []
    },
    {
      "cell_type": "code",
      "source": [
        "  #Part 1\n",
        "  airbnb.head()\n",
        "\n",
        "  price = airbnb['Price']\n",
        "  price = price.str.replace(\",\",\"\")\n",
        "  num_price = pd.to_numeric(price)\n",
        "  print(num_price.unique())\n",
        "  print(\"NAs:\",sum(num_price.isna()))\n"
      ],
      "metadata": {
        "colab": {
          "base_uri": "https://localhost:8080/"
        },
        "id": "MqpbPhhUCwwG",
        "outputId": "8c6e3f8f-5eff-4ed8-fc13-920e3982dbaa"
      },
      "id": "MqpbPhhUCwwG",
      "execution_count": 4,
      "outputs": [
        {
          "output_type": "stream",
          "name": "stdout",
          "text": [
            "[  145    37    28   199   549   149   250    90   270   290   170    59\n",
            "    49    68   285    75   100   150   700   125   175    40    89    95\n",
            "    99   499   120    79   110   180   143   230   350   135    85    60\n",
            "    70    55    44   200   165   115    74    84   129    50   185    80\n",
            "   190   140    45    65   225   600   109  1990    73   240    72   105\n",
            "   155   160    42   132   117   295   280   159   107    69   239   220\n",
            "   399   130   375   585   275   139   260    35   133   300   289   179\n",
            "    98   195    29    27    39   249   192   142   169  1000   131   138\n",
            "   113   122   329   101   475   238   272   308   126   235   315   248\n",
            "   128    56   207   450   215   210   385   445   136   247   118    77\n",
            "    76    92   198   205   299   222   245   104   153   349   114   320\n",
            "   292   226   420   500   325   307    78   265   108   123   189    32\n",
            "    58    86   219   800   335    63   229   425    67    87  1200   158\n",
            "   650   234   310   695   400   166   119    62   168   340   479    43\n",
            "   395   144    52    47   529   187   209   233    82   269   163   172\n",
            "   305   156   550   435   137   124    48   279   330  5000   134   378\n",
            "    97   277    64   193   147   186   264    30  3000   112    94   379\n",
            "    57   415   236   410   214    88    66    71   171   157   545  1500\n",
            "    83    96  1800    81   188   380   255   505    54    33   174    93\n",
            "   740   640  1300   440   599   357  1239   495   127  5999   178   348\n",
            "   152   242   183   253   750   259   365   273   197   397   103   389\n",
            "   355   559    38   203   999   141   162   333   698    46   360   895\n",
            "    10    41   206   281   449   388   212   102   201  2750  4750   432\n",
            "   675   167   390   298   339   194   302   211   595   191    53   361\n",
            "   480  8000  4500   459   997   345   216   218   111   735   276    91\n",
            "   490   850   398    36   775   267   625   336  2500   176   725  3750\n",
            "   469   106   460   287   575   227   263    25   228   208   177   880\n",
            "   148   116   685   470   217   164    61   645   699   405   252   319\n",
            "   268   419   343   525   311   840   154   294   950   409   184   257\n",
            "   204   241  2000   412   121   288   196   900   647   524  1750   309\n",
            "   510  1495  1700   799   383   372   492   327  1999   656   224   173\n",
            "   875  1170   795   690   146   465  1100   151   274   429   825   282\n",
            "   256  1111   620   271   161    51   855   579  1174   430    20   899\n",
            "   649   485   181   455  4000   243   342   590   560   374   437   232\n",
            "   359   985    31   244   254   723   237   428   370    34  1400   580\n",
            "  2520   221   749  1600  2695   306   202   680   570   520   223  2295\n",
            "   213  1065   346    24   286   296   266    26   995  1368   393   182\n",
            "   635   258   780   589   347  1250  1350   446  3200  1050  1650  1550\n",
            "   975   323  6500  2499  1850  2250   715   461   540   356   439   384\n",
            "   569  1900    22   785   626   830   318   444   321   401  1499   888\n",
            "   369   770   386   366   344   630   313   597   262   509 10000   278\n",
            "   312   789  1195   422    21   765  3500   945   326  3100  2486  3390\n",
            "  1356  2599   472   454   328   396   291]\n",
            "NAs: 0\n"
          ]
        },
        {
          "output_type": "execute_result",
          "data": {
            "text/plain": [
              "0        False\n",
              "1        False\n",
              "2        False\n",
              "3        False\n",
              "4        False\n",
              "         ...  \n",
              "30473    False\n",
              "30474    False\n",
              "30475    False\n",
              "30476    False\n",
              "30477    False\n",
              "Name: Price, Length: 30478, dtype: bool"
            ]
          },
          "metadata": {},
          "execution_count": 4
        }
      ]
    },
    {
      "cell_type": "markdown",
      "source": [
        "I chose to replace the commas with empty space and convert the variable to numeric, because numbers over 999 include the comma and since commas are characters in Python, they were making the whole variable into characters instead of numeric. I ended up with no missing values."
      ],
      "metadata": {
        "id": "8EfDk6BcGH7j"
      },
      "id": "8EfDk6BcGH7j"
    },
    {
      "cell_type": "code",
      "source": [
        "# Part 2\n",
        "\n",
        "sharks[\"Type\"].value_counts()\n",
        "\n",
        "stype = sharks['Type'].replace(['Boatomg',\"Boating\",\"Boat\",'Sea Disaster'],\"Watercraft\").replace(['Invalid','Unconfirmed','Questionable','Unverified','Under investigation'],np.nan)\n",
        "stype.value_counts()\n",
        "\n",
        "sharks['Type'] = stype"
      ],
      "metadata": {
        "colab": {
          "base_uri": "https://localhost:8080/"
        },
        "id": "YX6rhOWgHQqd",
        "outputId": "60bfd1d7-d70c-4bae-d8ab-c32152660af2"
      },
      "id": "YX6rhOWgHQqd",
      "execution_count": 5,
      "outputs": [
        {
          "output_type": "execute_result",
          "data": {
            "text/plain": [
              "Unprovoked    4716\n",
              "Provoked       593\n",
              "Watercraft     583\n",
              "Name: Type, dtype: int64"
            ]
          },
          "metadata": {},
          "execution_count": 5
        }
      ]
    },
    {
      "cell_type": "markdown",
      "source": [
        "I chose to group all of the boat and sea related types into the watercraft value because they all fell under that umbrella. I also chose to get rid of all of the uncertain types, because they don't have concrete information that can be useful to the analysis of the data."
      ],
      "metadata": {
        "id": "6FEPuMbJJ-z-"
      },
      "id": "6FEPuMbJJ-z-"
    },
    {
      "cell_type": "code",
      "source": [
        "url = 'http://www.vcsc.virginia.gov/pretrialdataproject/October%202017%20Cohort_Virginia%20Pretrial%20Data%20Project_Deidentified%20FINAL%20Update_10272021.csv'\n",
        "pretrial = pd.read_csv(url,low_memory=False)\n"
      ],
      "metadata": {
        "colab": {
          "base_uri": "https://localhost:8080/"
        },
        "id": "wxF15RoMdJcf",
        "outputId": "b5d22915-4ead-4512-a93a-ffe92d253eda"
      },
      "id": "wxF15RoMdJcf",
      "execution_count": 12,
      "outputs": [
        {
          "output_type": "execute_result",
          "data": {
            "text/plain": [
              "1    19154\n",
              "0     3801\n",
              "9       31\n",
              "Name: WhetherDefendantWasReleasedPretrial, dtype: int64"
            ]
          },
          "metadata": {},
          "execution_count": 12
        }
      ]
    },
    {
      "cell_type": "code",
      "source": [
        "# Part 3\n",
        "released = pretrial['WhetherDefendantWasReleasedPretrial']\n",
        "print(released.value_counts())\n",
        "\n",
        "released = released.replace(9,np.nan)\n",
        "print(released.value_counts())\n",
        "\n",
        "pretrial['WhetherDefendantWasReleasedPretrial'] = released"
      ],
      "metadata": {
        "colab": {
          "base_uri": "https://localhost:8080/"
        },
        "id": "P7b64pykDLW6",
        "outputId": "4ef0acd9-97f7-4ecd-eab6-638f92818efd"
      },
      "id": "P7b64pykDLW6",
      "execution_count": 14,
      "outputs": [
        {
          "output_type": "execute_result",
          "data": {
            "text/plain": [
              "1.0    19154\n",
              "0.0     3801\n",
              "Name: WhetherDefendantWasReleasedPretrial, dtype: int64"
            ]
          },
          "metadata": {},
          "execution_count": 14
        }
      ]
    },
    {
      "cell_type": "code",
      "source": [
        "# Part 4\n",
        "\n",
        "length = pretrial['ImposedSentenceAllChargeInContactEvent']\n",
        "kind = pretrial['SentenceTypeAllChargesAtConvictionInContactEvent']\n",
        "\n",
        "length = pd.to_numeric(length, errors='coerce')\n",
        "len_na = length.isna()\n",
        "\n",
        "print(pd.crosstab(len_na, kind))\n",
        "\n",
        "length = length.mask(kind==4, 0).mask(kind==9,np.nan)\n",
        "len_na = length.isna()\n",
        "\n",
        "print(pd.crosstab(len_na, kind))\n",
        "\n",
        "pretrial['ImposedSentenceAllChargeInContactEvent'] = length\n"
      ],
      "metadata": {
        "colab": {
          "base_uri": "https://localhost:8080/"
        },
        "id": "1uMG2hktDeXF",
        "outputId": "ee1b67dd-bc89-4f3a-d1da-3eba91a61b9f"
      },
      "id": "1uMG2hktDeXF",
      "execution_count": 29,
      "outputs": [
        {
          "output_type": "stream",
          "name": "stdout",
          "text": [
            "SentenceTypeAllChargesAtConvictionInContactEvent     0     1    2     4    9\n",
            "ImposedSentenceAllChargeInContactEvent                                      \n",
            "False                                             8720  4299  914     0    0\n",
            "True                                                 0     0    0  8779  274\n",
            "SentenceTypeAllChargesAtConvictionInContactEvent     0     1    2     4    9\n",
            "ImposedSentenceAllChargeInContactEvent                                      \n",
            "False                                             8720  4299  914  8779    0\n",
            "True                                                 0     0    0     0  274\n"
          ]
        }
      ]
    },
    {
      "cell_type": "markdown",
      "source": [
        "The sentence length variable was originally made up of strings even though the values were suposed to be numbers, so I changed it to numeric. When changing it to numeric, almost half of the data in the variable was missing values, which is a lot of data to lose. So I looked at the type of sentence compared to the missing values in the length variable to see if there was a pattern between the kind of sentence and the length. The majority of the missing values were in 4 category of sentence kind, so I replaced all the missing values for the observations that wee in the 4 category with 0 and the rest of the missing values (in the 9 category) with nan's. (I looked at the solution for this but I am explaining how I understood it.)"
      ],
      "metadata": {
        "id": "NoMfnjhIMxtX"
      },
      "id": "NoMfnjhIMxtX"
    },
    {
      "cell_type": "markdown",
      "id": "649494cd-cfd6-4f80-992a-9994fc19e1d5",
      "metadata": {
        "id": "649494cd-cfd6-4f80-992a-9994fc19e1d5"
      },
      "source": [
        "**Q3.** Many important datasets contain a race variable, typically limited to a handful of values often including Black, White, Asian, Latino, and Indigenous. This question looks at data gathering efforts on this variable by the U.S. Federal government.\n",
        "\n",
        "1. How did the most recent US Census gather data on race?\n",
        "2. Why do we gather these data? What role do these kinds of data play in politics and society? Why does data quality matter?\n",
        "3. Please provide a constructive criticism of how the Census was conducted: What was done well? What do you think was missing? How should future large scale surveys be adjusted to best reflect the diversity of the population? Could some of the Census' good practices be adopted more widely to gather richer and more useful data?\n",
        "4. How did the Census gather data on sex and gender? Please provide a similar constructive criticism of their practices.\n",
        "5. When it comes to cleaning data, what concerns do you have about protected characteristics like sex, gender, sexual identity, or race? What challenges can you imagine arising when there are missing values? What good or bad practices might people adopt, and why?\n",
        "6. Suppose someone invented an algorithm to impute values for protected characteristics like race, gender, sex, or sexuality. What kinds of concerns would you have?"
      ]
    }
  ],
  "metadata": {
    "colab": {
      "provenance": [],
      "include_colab_link": true
    },
    "kernelspec": {
      "display_name": "Python 3 (ipykernel)",
      "language": "python",
      "name": "python3"
    },
    "language_info": {
      "codemirror_mode": {
        "name": "ipython",
        "version": 3
      },
      "file_extension": ".py",
      "mimetype": "text/x-python",
      "name": "python",
      "nbconvert_exporter": "python",
      "pygments_lexer": "ipython3",
      "version": "3.10.4"
    }
  },
  "nbformat": 4,
  "nbformat_minor": 5
}